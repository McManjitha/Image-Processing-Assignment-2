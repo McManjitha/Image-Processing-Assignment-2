{
  "nbformat": 4,
  "nbformat_minor": 0,
  "metadata": {
    "colab": {
      "provenance": []
    },
    "kernelspec": {
      "name": "python3",
      "display_name": "Python 3"
    },
    "language_info": {
      "name": "python"
    }
  },
  "cells": [
    {
      "cell_type": "code",
      "source": [
        "from skimage import io\n",
        "import numpy as np\n",
        "from scipy.ndimage import gaussian_filter\n",
        "import cv2\n",
        "import matplotlib.pyplot as plt"
      ],
      "metadata": {
        "id": "McXLUikdXler"
      },
      "execution_count": 7,
      "outputs": []
    },
    {
      "cell_type": "code",
      "execution_count": 8,
      "metadata": {
        "colab": {
          "base_uri": "https://localhost:8080/",
          "height": 176
        },
        "id": "cKwY2FDUd9ep",
        "outputId": "eb5914b7-c925-4552-a4a2-b8ce92e07c34"
      },
      "outputs": [
        {
          "output_type": "stream",
          "name": "stdout",
          "text": [
            "Threshold = 42.29296875\n"
          ]
        },
        {
          "output_type": "execute_result",
          "data": {
            "text/plain": [
              "(-0.5, 1279.5, 719.5, -0.5)"
            ]
          },
          "metadata": {},
          "execution_count": 8
        },
        {
          "output_type": "display_data",
          "data": {
            "text/plain": [
              "<Figure size 640x480 with 3 Axes>"
            ],
            "image/png": "[encoded data removed]"
          },
          "metadata": {}
        }
      ],
      "source": [
        "\n",
        "def otsu_threshold(image):\n",
        "\n",
        "  # Calculate histogram\n",
        "  hist, bins = np.histogram(image.flatten(), bins=256)\n",
        "\n",
        "  # Normalize histogram\n",
        "  prob = hist / np.sum(hist)\n",
        "  # Calculate cumulative distribution functions (CDFs)\n",
        "  w1 = np.cumsum(prob)\n",
        "  w2 = 1 - w1\n",
        "\n",
        "  # Calculate mean intensity\n",
        "  mean = np.mean(image)\n",
        "\n",
        "  # Initialize variables for loop\n",
        "  between_class_variance = np.zeros(len(bins))\n",
        "  threshold = None\n",
        "\n",
        "  # Iterate through all possible thresholds\n",
        "  for i in range(1, len(bins)-1):\n",
        "    t = bins[i]\n",
        "    v1 = w1[i-1] * (mean - bins[i-1])**2\n",
        "    v2 = w2[i] * (mean - bins[i])**2\n",
        "    between_class_variance[i] = v1 + v2\n",
        "\n",
        "  # Find the threshold with the maximum between-class variance\n",
        "  max_variance = np.max(between_class_variance)\n",
        "  threshold = bins[np.argmax(between_class_variance)]\n",
        "\n",
        "  return threshold\n",
        "\n",
        "image = cv2.imread('grayimage4.png')\n",
        "\n",
        "# Add Gaussian noise (adjust mean and standard deviation as needed)\n",
        "noisy_image = gaussian_filter(image, sigma=5)\n",
        "\n",
        "# Apply Otsu's algorithm to find the optimal threshold\n",
        "threshold = otsu_threshold(noisy_image)\n",
        "print(f\"Threshold = {threshold}\")\n",
        "\n",
        "# Threshold the image based on the optimal threshold\n",
        "segmented_image = np.copy(noisy_image)\n",
        "\n",
        "segmented_image[segmented_image <= threshold] = 0  # Background\n",
        "segmented_image[segmented_image > threshold] = 255  # Foreground\n",
        "\n",
        "plt.subplot(1, 3, 1)\n",
        "plt.imshow(image, cmap='gray')\n",
        "plt.title('Original Image')\n",
        "plt.axis('off')\n",
        "\n",
        "plt.subplot(1, 3, 2)\n",
        "plt.imshow(noisy_image, cmap='gray')\n",
        "plt.title('noisey image')\n",
        "plt.axis('off')\n",
        "\n",
        "plt.subplot(1, 3, 3)\n",
        "plt.imshow(segmented_image, cmap='gray')\n",
        "plt.title('segmented image')\n",
        "plt.axis('off')\n",
        "\n"
      ]
    },
    {
      "cell_type": "code",
      "source": [
        "threshold"
      ],
      "metadata": {
        "colab": {
          "base_uri": "https://localhost:8080/"
        },
        "id": "B4ySBBBfS-f_",
        "outputId": "2fa573fd-6324-4c87-91cb-d3a14a12e291"
      },
      "execution_count": null,
      "outputs": [
        {
          "output_type": "execute_result",
          "data": {
            "text/plain": [
              "254.00390625"
            ]
          },
          "metadata": {},
          "execution_count": 61
        }
      ]
    }
  ]
}