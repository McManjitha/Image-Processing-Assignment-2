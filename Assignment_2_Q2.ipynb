{
  "nbformat": 4,
  "nbformat_minor": 0,
  "metadata": {
    "colab": {
      "provenance": [],
      "authorship_tag": "ABX9TyOsfn6Mj4v5+lesdfwKMCU+",
      "include_colab_link": true
    },
    "kernelspec": {
      "name": "python3",
      "display_name": "Python 3"
    },
    "language_info": {
      "name": "python"
    }
  },
  "cells": [
    {
      "cell_type": "markdown",
      "metadata": {
        "id": "view-in-github",
        "colab_type": "text"
      },
      "source": [
        "<a href=\"https://colab.research.google.com/github/McManjitha/Image-Processing-Assignment-2/blob/main/Assignment_2_Q2.ipynb\" target=\"_parent\"><img src=\"https://colab.research.google.com/assets/colab-badge.svg\" alt=\"Open In Colab\"/></a>"
      ]
    },
    {
      "cell_type": "code",
      "source": [
        "from skimage import io\n",
        "import numpy as np\n",
        "from scipy.ndimage import gaussian_filter\n",
        "import cv2\n",
        "import matplotlib.pyplot as plt"
      ],
      "metadata": {
        "id": "DHrn4-p2Dy2Y"
      },
      "execution_count": 19,
      "outputs": []
    },
    {
      "cell_type": "code",
      "execution_count": 20,
      "metadata": {
        "colab": {
          "base_uri": "https://localhost:8080/",
          "height": 203
        },
        "id": "-tQfozqkDXCw",
        "outputId": "13dbbb69-7b48-4858-b0b7-bfcba7320844"
      },
      "outputs": [
        {
          "output_type": "execute_result",
          "data": {
            "text/plain": [
              "(-0.5, 1279.5, 719.5, -0.5)"
            ]
          },
          "metadata": {},
          "execution_count": 20
        },
        {
          "output_type": "display_data",
          "data": {
            "text/plain": [
              "<Figure size 640x480 with 1 Axes>"
            ],
            "image/png": "[encoded data removed]"
          },
          "metadata": {}
        }
      ],
      "source": [
        "image = cv2.imread('image2.png')\n",
        "plt.subplot(1, 2, 1)\n",
        "plt.imshow(image, cmap='gray')\n",
        "plt.title(\"Original Image\")\n",
        "plt.axis('off')"
      ]
    },
    {
      "cell_type": "code",
      "source": [
        "image.shape"
      ],
      "metadata": {
        "colab": {
          "base_uri": "https://localhost:8080/"
        },
        "id": "tlY9wppUD3N1",
        "outputId": "070cc28b-fc54-4a6a-8951-50a76a684c85"
      },
      "execution_count": 21,
      "outputs": [
        {
          "output_type": "execute_result",
          "data": {
            "text/plain": [
              "(720, 1280, 3)"
            ]
          },
          "metadata": {},
          "execution_count": 21
        }
      ]
    },
    {
      "cell_type": "code",
      "source": [
        "import numpy as np\n",
        "\n",
        "def region_growing(image, points, threshold):\n",
        "\n",
        "  #Performs region growing segmentation on an image.\n",
        "\n",
        "  #Args:\n",
        "      #image: A 2D numpy array representing the image.\n",
        "      #seeds: A list of tuples (x, y) representing the seed points.\n",
        "      #threshold: The threshold for considering a neighboring pixel similar to the seed.\n",
        "\n",
        "  new_array = np.zeros((image.shape[0], image.shape[1]))\n",
        "\n",
        "  for i in range(image.shape[0]):\n",
        "    for j in range(image.shape[1]):\n",
        "      new_array[i, j] = image[i, j, 0]\n",
        "\n",
        "\n",
        "\n",
        "  # Initialize segmentation mask\n",
        "  segmentation = np.zeros_like(new_array, dtype=bool)\n",
        "  rows, cols = new_array.shape\n",
        "\n",
        "  # Process each seed point\n",
        "  for point in points:\n",
        "    seed_row, seed_col = point\n",
        "    if not (0 <= seed_row < rows and 0 <= seed_col < cols):\n",
        "      continue\n",
        "\n",
        "    # Queue for breadth-first search\n",
        "    queue = [(seed_row, seed_col)]\n",
        "    visited = set()\n",
        "\n",
        "    while queue:\n",
        "      row, col = queue.pop(0)\n",
        "      if (row, col) in visited:\n",
        "        continue\n",
        "      visited.add((row, col))\n",
        "      segmentation[row, col] = True\n",
        "\n",
        "      # Check neighboring pixels\n",
        "      for drow, dcol in [(-1, 0), (1, 0), (0, -1), (0, 1)]:\n",
        "        new_row, new_col = row + drow, col + dcol\n",
        "        if not (0 <= new_row < rows and 0 <= new_col < cols):\n",
        "          continue\n",
        "        if segmentation[new_row, new_col]:\n",
        "          continue\n",
        "        if abs(new_array[row, col] - new_array[new_row, new_col]) <= threshold:\n",
        "          queue.append((new_row, new_col))\n",
        "\n",
        "  return segmentation\n",
        "\n",
        "points = [(353, 644), (362, 623), (355, 620), (340, 680), (400, 620)]\n",
        "threshold = 4\n",
        "\n",
        "segmentation = region_growing(image, points, threshold)\n",
        "\n",
        "print(segmentation)\n"
      ],
      "metadata": {
        "colab": {
          "base_uri": "https://localhost:8080/"
        },
        "id": "kZydg8wwEAOf",
        "outputId": "be132fe2-05b8-40b0-85ae-098dc6819158"
      },
      "execution_count": 22,
      "outputs": [
        {
          "output_type": "stream",
          "name": "stdout",
          "text": [
            "[[False False False ... False False False]\n",
            " [False False False ... False False False]\n",
            " [False False False ... False False False]\n",
            " ...\n",
            " [False False False ... False False False]\n",
            " [False False False ... False False False]\n",
            " [False False False ... False False False]]\n"
          ]
        }
      ]
    },
    {
      "cell_type": "code",
      "source": [
        "foreground = np.zeros((image.shape[0], image.shape[1], 3))\n",
        "\n",
        "for i in range(segmentation.shape[0]):\n",
        "  for j in range(segmentation.shape[1]):\n",
        "    if(segmentation[i, j] == True):\n",
        "        foreground[i,j] = [0,0,0]\n",
        "    else:\n",
        "        foreground[i,j] = [255,255,255]\n",
        "\n"
      ],
      "metadata": {
        "id": "Iux4tXfJEDVV"
      },
      "execution_count": 23,
      "outputs": []
    },
    {
      "cell_type": "code",
      "source": [
        "plt.subplot(1, 2, 1)\n",
        "plt.imshow(foreground, cmap='gray')\n",
        "plt.axis('off')"
      ],
      "metadata": {
        "colab": {
          "base_uri": "https://localhost:8080/",
          "height": 218
        },
        "id": "MqTJNlQyEFru",
        "outputId": "1cc2be17-679e-46b1-b8f9-ddaa204b71f7"
      },
      "execution_count": 24,
      "outputs": [
        {
          "output_type": "stream",
          "name": "stderr",
          "text": [
            "WARNING:matplotlib.image:Clipping input data to the valid range for imshow with RGB data ([0..1] for floats or [0..255] for integers).\n"
          ]
        },
        {
          "output_type": "execute_result",
          "data": {
            "text/plain": [
              "(-0.5, 1279.5, 719.5, -0.5)"
            ]
          },
          "metadata": {},
          "execution_count": 24
        },
        {
          "output_type": "display_data",
          "data": {
            "text/plain": [
              "<Figure size 640x480 with 1 Axes>"
            ],
            "image/png": "[encoded data removed]"
          },
          "metadata": {}
        }
      ]
    }
  ]
}